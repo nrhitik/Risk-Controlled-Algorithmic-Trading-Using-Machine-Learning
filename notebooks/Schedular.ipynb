{
 "cells": [
  {
   "cell_type": "code",
   "execution_count": null,
   "metadata": {},
   "outputs": [],
   "source": [
    "import schedule\n",
    "import time\n",
    "import os\n",
    "\n",
    "# Define the paths to your IPython notebooks\n",
    "data_fetch_notebook = './dataFetchAndPrepro.ipynb'\n",
    "model_train_notebook = 'TrainModel.ipynb'\n",
    "\n",
    "# Define a function to run the data fetch and preprocess notebook\n",
    "def run_data_fetch_notebook():\n",
    "    os.system(f'jupyter nbconvert --execute {data_fetch_notebook}')\n",
    "\n",
    "# Define a function to run the model train notebook\n",
    "def run_model_train_notebook():\n",
    "    os.system(f'jupyter nbconvert --execute {model_train_notebook}')\n",
    "\n",
    "# Schedule the data fetch and preprocess notebook to run every day at 2am\n",
    "schedule.every(1).day.at(\"02:00\").do(run_data_fetch_notebook)\n",
    "\n",
    "# Schedule the model train notebook to run every day at 3am\n",
    "schedule.every(1).day.at(\"03:00\").do(run_model_train_notebook)\n",
    "\n",
    "while True:\n",
    "    schedule.run_pending()\n",
    "    time.sleep(1)"
   ]
  }
 ],
 "metadata": {
  "language_info": {
   "name": "python"
  }
 },
 "nbformat": 4,
 "nbformat_minor": 2
}
